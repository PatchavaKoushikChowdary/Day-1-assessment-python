{
  "nbformat": 4,
  "nbformat_minor": 0,
  "metadata": {
    "colab": {
      "provenance": [],
      "authorship_tag": "ABX9TyOFZe8bMGTE1yNnkWL6rqwN",
      "include_colab_link": true
    },
    "kernelspec": {
      "name": "python3",
      "display_name": "Python 3"
    },
    "language_info": {
      "name": "python"
    }
  },
  "cells": [
    {
      "cell_type": "markdown",
      "metadata": {
        "id": "view-in-github",
        "colab_type": "text"
      },
      "source": [
        "<a href=\"https://colab.research.google.com/github/PatchavaKoushikChowdary/Day-1-assessment-python/blob/main/pytorch_fundamentals_part2.ipynb\" target=\"_parent\"><img src=\"https://colab.research.google.com/assets/colab-badge.svg\" alt=\"Open In Colab\"/></a>"
      ]
    },
    {
      "cell_type": "code",
      "execution_count": 2,
      "metadata": {
        "colab": {
          "base_uri": "https://localhost:8080/"
        },
        "id": "siGIQNyw9WqW",
        "outputId": "9020f8eb-bb79-48fc-d052-a5826c2f4005"
      },
      "outputs": [
        {
          "output_type": "stream",
          "name": "stdout",
          "text": [
            "2.1.0+cu121\n"
          ]
        }
      ],
      "source": [
        "import torch\n",
        "import pandas as pd\n",
        "import numpy as np\n",
        "import matplotlib.pyplot as plt\n",
        "print(torch.__version__)"
      ]
    },
    {
      "cell_type": "code",
      "source": [
        "scalar=torch.tensor(7)\n",
        "print(scalar)"
      ],
      "metadata": {
        "colab": {
          "base_uri": "https://localhost:8080/"
        },
        "id": "BUTiMkC0_NOZ",
        "outputId": "3ff0c8cb-16ec-493e-fdfa-c71cc86edf3f"
      },
      "execution_count": 7,
      "outputs": [
        {
          "output_type": "stream",
          "name": "stdout",
          "text": [
            "tensor(7)\n"
          ]
        }
      ]
    },
    {
      "cell_type": "code",
      "source": [
        "scalar.ndim"
      ],
      "metadata": {
        "colab": {
          "base_uri": "https://localhost:8080/"
        },
        "id": "XkJEm3bj_Xg-",
        "outputId": "488777ce-e83c-443f-edad-6bd694afc09c"
      },
      "execution_count": 5,
      "outputs": [
        {
          "output_type": "execute_result",
          "data": {
            "text/plain": [
              "0"
            ]
          },
          "metadata": {},
          "execution_count": 5
        }
      ]
    },
    {
      "cell_type": "code",
      "source": [
        "vector=torch.tensor([7,7])\n",
        "print(vector)"
      ],
      "metadata": {
        "colab": {
          "base_uri": "https://localhost:8080/"
        },
        "id": "jjYYQpeq_emn",
        "outputId": "547d21bf-9c5f-4b56-935d-e625e91bab14"
      },
      "execution_count": 8,
      "outputs": [
        {
          "output_type": "stream",
          "name": "stdout",
          "text": [
            "tensor([7, 7])\n"
          ]
        }
      ]
    },
    {
      "cell_type": "code",
      "source": [
        "vector.shape"
      ],
      "metadata": {
        "colab": {
          "base_uri": "https://localhost:8080/"
        },
        "id": "t-djBdsm_oXO",
        "outputId": "5f4b0547-8585-4fa2-a2b0-f9b873b5a189"
      },
      "execution_count": 9,
      "outputs": [
        {
          "output_type": "execute_result",
          "data": {
            "text/plain": [
              "torch.Size([2])"
            ]
          },
          "metadata": {},
          "execution_count": 9
        }
      ]
    },
    {
      "cell_type": "code",
      "source": [
        "MATRIX=torch.tensor([[7,8], [9,8]])\n",
        "print(MATRIX)"
      ],
      "metadata": {
        "colab": {
          "base_uri": "https://localhost:8080/"
        },
        "id": "EaJSP0jz_utk",
        "outputId": "c8e713c8-7158-4b02-fbf1-895116795421"
      },
      "execution_count": 14,
      "outputs": [
        {
          "output_type": "stream",
          "name": "stdout",
          "text": [
            "tensor([[7, 8],\n",
            "        [9, 8]])\n"
          ]
        }
      ]
    },
    {
      "cell_type": "code",
      "source": [
        "TENSOR=torch.tensor([[[1,2,3], [3,6,9], [2,4,5]]])\n",
        "print(TENSOR)"
      ],
      "metadata": {
        "colab": {
          "base_uri": "https://localhost:8080/"
        },
        "id": "dBh93eld_2x8",
        "outputId": "c6822043-78a3-49c8-86a1-d558dbb56b70"
      },
      "execution_count": 11,
      "outputs": [
        {
          "output_type": "stream",
          "name": "stdout",
          "text": [
            "tensor([[[1, 2, 3],\n",
            "         [3, 6, 9],\n",
            "         [2, 4, 5]]])\n"
          ]
        }
      ]
    },
    {
      "cell_type": "code",
      "source": [
        "TENSOR.ndim"
      ],
      "metadata": {
        "colab": {
          "base_uri": "https://localhost:8080/"
        },
        "id": "DvIb4lZi_9LK",
        "outputId": "6c604a50-8854-4b39-823f-43320dd72c5f"
      },
      "execution_count": 12,
      "outputs": [
        {
          "output_type": "execute_result",
          "data": {
            "text/plain": [
              "3"
            ]
          },
          "metadata": {},
          "execution_count": 12
        }
      ]
    },
    {
      "cell_type": "code",
      "source": [
        "TENSOR.shape"
      ],
      "metadata": {
        "colab": {
          "base_uri": "https://localhost:8080/"
        },
        "id": "35h9MsOaAIeL",
        "outputId": "7e30e3ca-8412-4afb-bada-865db7379ffc"
      },
      "execution_count": 16,
      "outputs": [
        {
          "output_type": "execute_result",
          "data": {
            "text/plain": [
              "torch.Size([1, 3, 3])"
            ]
          },
          "metadata": {},
          "execution_count": 16
        }
      ]
    },
    {
      "cell_type": "code",
      "source": [
        "random_tensor=torch.rand(10,10)\n",
        "print(random_tensor)"
      ],
      "metadata": {
        "colab": {
          "base_uri": "https://localhost:8080/"
        },
        "id": "6sIkYaaWAMm4",
        "outputId": "49848f25-9709-4dce-e2af-ced2ba36de90"
      },
      "execution_count": 17,
      "outputs": [
        {
          "output_type": "stream",
          "name": "stdout",
          "text": [
            "tensor([[0.3158, 0.7831, 0.4247, 0.1338, 0.6015, 0.1128, 0.1066, 0.7738, 0.3853,\n",
            "         0.0977],\n",
            "        [0.2886, 0.5103, 0.0916, 0.6120, 0.2599, 0.6964, 0.8524, 0.0062, 0.8216,\n",
            "         0.2463],\n",
            "        [0.9138, 0.5178, 0.4059, 0.5906, 0.7096, 0.4647, 0.5704, 0.2295, 0.8292,\n",
            "         0.0495],\n",
            "        [0.2224, 0.9271, 0.8130, 0.0324, 0.9711, 0.4992, 0.5602, 0.0238, 0.5709,\n",
            "         0.3911],\n",
            "        [0.5737, 0.8180, 0.7600, 0.5345, 0.6113, 0.6176, 0.9969, 0.9371, 0.3743,\n",
            "         0.0440],\n",
            "        [0.9452, 0.4741, 0.8134, 0.3040, 0.8659, 0.8977, 0.5445, 0.3792, 0.0201,\n",
            "         0.4549],\n",
            "        [0.0828, 0.3512, 0.5294, 0.4424, 0.3770, 0.9057, 0.0710, 0.6291, 0.2595,\n",
            "         0.4507],\n",
            "        [0.0928, 0.7116, 0.1678, 0.2467, 0.9523, 0.0636, 0.9701, 0.2574, 0.0107,\n",
            "         0.5462],\n",
            "        [0.2392, 0.9041, 0.7430, 0.2533, 0.6621, 0.0058, 0.4227, 0.4153, 0.0180,\n",
            "         0.2722],\n",
            "        [0.9351, 0.1499, 0.8371, 0.1561, 0.6285, 0.1457, 0.2451, 0.6943, 0.6127,\n",
            "         0.6112]])\n"
          ]
        }
      ]
    },
    {
      "cell_type": "code",
      "source": [
        "random_tensor.ndim"
      ],
      "metadata": {
        "colab": {
          "base_uri": "https://localhost:8080/"
        },
        "id": "4EpGjMkBASeH",
        "outputId": "c4841a4e-0f68-4294-dd89-0e44fe543d41"
      },
      "execution_count": 18,
      "outputs": [
        {
          "output_type": "execute_result",
          "data": {
            "text/plain": [
              "2"
            ]
          },
          "metadata": {},
          "execution_count": 18
        }
      ]
    },
    {
      "cell_type": "code",
      "source": [
        "r=torch.rand(size=(224,224,3))\n",
        "print(r.shape)\n",
        "print(r.ndim)"
      ],
      "metadata": {
        "colab": {
          "base_uri": "https://localhost:8080/"
        },
        "id": "rfzEtjTRAWAT",
        "outputId": "9761efde-ca35-48d8-b35d-3a8d094bac50"
      },
      "execution_count": 19,
      "outputs": [
        {
          "output_type": "stream",
          "name": "stdout",
          "text": [
            "torch.Size([224, 224, 3])\n",
            "3\n"
          ]
        }
      ]
    },
    {
      "cell_type": "code",
      "source": [
        "tensor=torch.tensor([1,2,3])\n",
        "print(tensor)"
      ],
      "metadata": {
        "colab": {
          "base_uri": "https://localhost:8080/"
        },
        "id": "bd3FW98RAgYE",
        "outputId": "c1ce3796-36ce-4961-a1ba-a83f82c9ce50"
      },
      "execution_count": 20,
      "outputs": [
        {
          "output_type": "stream",
          "name": "stdout",
          "text": [
            "tensor([1, 2, 3])\n"
          ]
        }
      ]
    },
    {
      "cell_type": "code",
      "source": [
        "x=torch.arange(0,100,10)\n",
        "print(x)"
      ],
      "metadata": {
        "colab": {
          "base_uri": "https://localhost:8080/"
        },
        "id": "TIFQCw0QAu2C",
        "outputId": "5b8351a1-0b0e-4f51-eb64-e98bf5f1ca19"
      },
      "execution_count": 21,
      "outputs": [
        {
          "output_type": "stream",
          "name": "stdout",
          "text": [
            "tensor([ 0, 10, 20, 30, 40, 50, 60, 70, 80, 90])\n"
          ]
        }
      ]
    },
    {
      "cell_type": "code",
      "source": [
        "x.argmin()"
      ],
      "metadata": {
        "colab": {
          "base_uri": "https://localhost:8080/"
        },
        "id": "GTAx2wBxAypM",
        "outputId": "733569c1-35c7-4f05-fea8-ffef54d760e7"
      },
      "execution_count": 22,
      "outputs": [
        {
          "output_type": "execute_result",
          "data": {
            "text/plain": [
              "tensor(0)"
            ]
          },
          "metadata": {},
          "execution_count": 22
        }
      ]
    },
    {
      "cell_type": "code",
      "source": [
        "x.argmax()"
      ],
      "metadata": {
        "colab": {
          "base_uri": "https://localhost:8080/"
        },
        "id": "ih3RMbw_A3Db",
        "outputId": "032293cb-8948-4e1a-ed06-f88c9ccb3f36"
      },
      "execution_count": 23,
      "outputs": [
        {
          "output_type": "execute_result",
          "data": {
            "text/plain": [
              "tensor(9)"
            ]
          },
          "metadata": {},
          "execution_count": 23
        }
      ]
    },
    {
      "cell_type": "code",
      "source": [
        "x[0],x[9]"
      ],
      "metadata": {
        "colab": {
          "base_uri": "https://localhost:8080/"
        },
        "id": "q5ZN6ddCA88a",
        "outputId": "41b4a2b8-a222-4300-d565-17606aa6d8ab"
      },
      "execution_count": 24,
      "outputs": [
        {
          "output_type": "execute_result",
          "data": {
            "text/plain": [
              "(tensor(0), tensor(90))"
            ]
          },
          "metadata": {},
          "execution_count": 24
        }
      ]
    },
    {
      "cell_type": "code",
      "source": [
        "import torch\n",
        "x = torch.arange(1.,10.)\n",
        "print(x,x.shape)"
      ],
      "metadata": {
        "colab": {
          "base_uri": "https://localhost:8080/"
        },
        "id": "sTd0pdgVCrDN",
        "outputId": "0793c460-2cbc-4036-c51d-fce1e0949bd3"
      },
      "execution_count": 31,
      "outputs": [
        {
          "output_type": "stream",
          "name": "stdout",
          "text": [
            "tensor([1., 2., 3., 4., 5., 6., 7., 8., 9.]) torch.Size([9])\n"
          ]
        }
      ]
    },
    {
      "cell_type": "code",
      "source": [
        "x_reshaped=x.reshape(1,9)\n",
        "print(x_reshaped,x_reshaped.shape)"
      ],
      "metadata": {
        "colab": {
          "base_uri": "https://localhost:8080/"
        },
        "id": "BA7PD2iGC5Uq",
        "outputId": "773227ca-8c2b-41c3-c733-11b2b38ec79a"
      },
      "execution_count": 32,
      "outputs": [
        {
          "output_type": "stream",
          "name": "stdout",
          "text": [
            "tensor([[1., 2., 3., 4., 5., 6., 7., 8., 9.]]) torch.Size([1, 9])\n"
          ]
        }
      ]
    },
    {
      "cell_type": "code",
      "source": [
        "z=x.view(1,9)\n",
        "print(z,z.shape)"
      ],
      "metadata": {
        "colab": {
          "base_uri": "https://localhost:8080/"
        },
        "id": "l2dgZ_q7C_bu",
        "outputId": "347e18a1-0f6b-4c65-c2c5-861886b9baa1"
      },
      "execution_count": 33,
      "outputs": [
        {
          "output_type": "stream",
          "name": "stdout",
          "text": [
            "tensor([[1., 2., 3., 4., 5., 6., 7., 8., 9.]]) torch.Size([1, 9])\n"
          ]
        }
      ]
    },
    {
      "cell_type": "code",
      "source": [
        "z[:,0]=5\n",
        "z"
      ],
      "metadata": {
        "colab": {
          "base_uri": "https://localhost:8080/"
        },
        "id": "E4zSXFVZDFLy",
        "outputId": "b10331a1-19d7-4a6b-c7d6-92d0f5c85c41"
      },
      "execution_count": 34,
      "outputs": [
        {
          "output_type": "execute_result",
          "data": {
            "text/plain": [
              "tensor([[5., 2., 3., 4., 5., 6., 7., 8., 9.]])"
            ]
          },
          "metadata": {},
          "execution_count": 34
        }
      ]
    },
    {
      "cell_type": "code",
      "source": [
        "x_stacked=torch.stack([x,x,x,x])\n",
        "print(x_stacked)"
      ],
      "metadata": {
        "colab": {
          "base_uri": "https://localhost:8080/"
        },
        "id": "c2b9bZ8UDKrm",
        "outputId": "3b2d93e6-f7bc-4ac5-b68e-2d6d04914248"
      },
      "execution_count": 35,
      "outputs": [
        {
          "output_type": "stream",
          "name": "stdout",
          "text": [
            "tensor([[5., 2., 3., 4., 5., 6., 7., 8., 9.],\n",
            "        [5., 2., 3., 4., 5., 6., 7., 8., 9.],\n",
            "        [5., 2., 3., 4., 5., 6., 7., 8., 9.],\n",
            "        [5., 2., 3., 4., 5., 6., 7., 8., 9.]])\n"
          ]
        }
      ]
    },
    {
      "cell_type": "code",
      "source": [
        "x_reshaped.squeeze()"
      ],
      "metadata": {
        "colab": {
          "base_uri": "https://localhost:8080/"
        },
        "id": "xBC0Rk49DQH9",
        "outputId": "fbc5b98d-b685-4a68-db83-4a4e918f49fb"
      },
      "execution_count": 36,
      "outputs": [
        {
          "output_type": "execute_result",
          "data": {
            "text/plain": [
              "tensor([5., 2., 3., 4., 5., 6., 7., 8., 9.])"
            ]
          },
          "metadata": {},
          "execution_count": 36
        }
      ]
    },
    {
      "cell_type": "code",
      "source": [
        "x_original = torch.rand(size=(224,224,3))\n",
        "x_permuted=x_original.permute(2,0,1)\n",
        "print(f\"Previous shape:{x_original.shape}\")\n",
        "print(f\"New shape:{x_permuted.shape}\")"
      ],
      "metadata": {
        "colab": {
          "base_uri": "https://localhost:8080/"
        },
        "id": "Vecf8j-JDUBM",
        "outputId": "a105942e-f3c3-4a23-bd41-de0a86fd2813"
      },
      "execution_count": 37,
      "outputs": [
        {
          "output_type": "stream",
          "name": "stdout",
          "text": [
            "Previous shape:torch.Size([224, 224, 3])\n",
            "New shape:torch.Size([3, 224, 224])\n"
          ]
        }
      ]
    },
    {
      "cell_type": "code",
      "source": [
        "x_original[0,0,0]=728218\n",
        "x_original[0,0,0],x_permuted[0,0,0]"
      ],
      "metadata": {
        "colab": {
          "base_uri": "https://localhost:8080/"
        },
        "id": "p6m4ZryXDfQb",
        "outputId": "5c13acbe-025c-45e5-bd8e-a8cb0cae2d71"
      },
      "execution_count": 39,
      "outputs": [
        {
          "output_type": "execute_result",
          "data": {
            "text/plain": [
              "(tensor(728218.), tensor(728218.))"
            ]
          },
          "metadata": {},
          "execution_count": 39
        }
      ]
    },
    {
      "cell_type": "code",
      "source": [
        "x=torch.arange(1,10).reshape(1,3,3)\n",
        "print(x,x.shape)"
      ],
      "metadata": {
        "colab": {
          "base_uri": "https://localhost:8080/"
        },
        "id": "czzzEwtPDkVJ",
        "outputId": "d3531026-f9de-4c1c-f573-7aaf94c3ff38"
      },
      "execution_count": 41,
      "outputs": [
        {
          "output_type": "stream",
          "name": "stdout",
          "text": [
            "tensor([[[1, 2, 3],\n",
            "         [4, 5, 6],\n",
            "         [7, 8, 9]]]) torch.Size([1, 3, 3])\n"
          ]
        }
      ]
    },
    {
      "cell_type": "code",
      "source": [
        "x[0]"
      ],
      "metadata": {
        "colab": {
          "base_uri": "https://localhost:8080/"
        },
        "id": "YDbAfBygD4yl",
        "outputId": "e63f12b6-c5c7-44d2-fd58-bf20cd38f8e2"
      },
      "execution_count": 42,
      "outputs": [
        {
          "output_type": "execute_result",
          "data": {
            "text/plain": [
              "tensor([[1, 2, 3],\n",
              "        [4, 5, 6],\n",
              "        [7, 8, 9]])"
            ]
          },
          "metadata": {},
          "execution_count": 42
        }
      ]
    },
    {
      "cell_type": "code",
      "source": [
        "x[0][0]"
      ],
      "metadata": {
        "colab": {
          "base_uri": "https://localhost:8080/"
        },
        "id": "2sFOzyVTD8vm",
        "outputId": "645275de-567f-4ae3-c49a-5ef3cfeba830"
      },
      "execution_count": 43,
      "outputs": [
        {
          "output_type": "execute_result",
          "data": {
            "text/plain": [
              "tensor([1, 2, 3])"
            ]
          },
          "metadata": {},
          "execution_count": 43
        }
      ]
    },
    {
      "cell_type": "code",
      "source": [
        "x[0][0][0]"
      ],
      "metadata": {
        "colab": {
          "base_uri": "https://localhost:8080/"
        },
        "id": "lp8x_oNaEA4K",
        "outputId": "cac5480d-0699-4939-ac28-81d6f64eb81c"
      },
      "execution_count": 44,
      "outputs": [
        {
          "output_type": "execute_result",
          "data": {
            "text/plain": [
              "tensor(1)"
            ]
          },
          "metadata": {},
          "execution_count": 44
        }
      ]
    },
    {
      "cell_type": "code",
      "source": [
        "array=np.arange(1.0,8.0)\n",
        "tensor=torch.from_numpy(array)\n",
        "print(array,tensor)"
      ],
      "metadata": {
        "colab": {
          "base_uri": "https://localhost:8080/"
        },
        "id": "FkkQe0QnECbE",
        "outputId": "1a42b0ab-709f-439e-ab35-61e1fff21fb3"
      },
      "execution_count": 45,
      "outputs": [
        {
          "output_type": "stream",
          "name": "stdout",
          "text": [
            "[1. 2. 3. 4. 5. 6. 7.] tensor([1., 2., 3., 4., 5., 6., 7.], dtype=torch.float64)\n"
          ]
        }
      ]
    },
    {
      "cell_type": "code",
      "source": [
        "tensor=torch.ones(7)\n",
        "numpy_tensor=tensor.numpy()\n",
        "print(tensor,numpy_tensor)"
      ],
      "metadata": {
        "colab": {
          "base_uri": "https://localhost:8080/"
        },
        "id": "0WR2PW1HENMc",
        "outputId": "29faf9cc-4b2d-4d3f-e197-ba9b9f6531b6"
      },
      "execution_count": 46,
      "outputs": [
        {
          "output_type": "stream",
          "name": "stdout",
          "text": [
            "tensor([1., 1., 1., 1., 1., 1., 1.]) [1. 1. 1. 1. 1. 1. 1.]\n"
          ]
        }
      ]
    },
    {
      "cell_type": "code",
      "source": [
        "torch.rand(3,3)"
      ],
      "metadata": {
        "colab": {
          "base_uri": "https://localhost:8080/"
        },
        "id": "ubQ0Jd6_EVk9",
        "outputId": "c2856dfa-1875-4ed2-81ec-9451f660e339"
      },
      "execution_count": 47,
      "outputs": [
        {
          "output_type": "execute_result",
          "data": {
            "text/plain": [
              "tensor([[0.3492, 0.0830, 0.2132],\n",
              "        [0.2747, 0.0012, 0.7977],\n",
              "        [0.0260, 0.5992, 0.7301]])"
            ]
          },
          "metadata": {},
          "execution_count": 47
        }
      ]
    },
    {
      "cell_type": "code",
      "source": [
        "a=torch.rand(3,4)\n",
        "b=torch.rand(3,4)\n",
        "print(a)\n",
        "print(b)\n",
        "print(a==b)"
      ],
      "metadata": {
        "colab": {
          "base_uri": "https://localhost:8080/"
        },
        "id": "2rzVMPIWEeI9",
        "outputId": "8e30a5ad-6d33-4d15-ccf4-1e6c75e6a844"
      },
      "execution_count": 48,
      "outputs": [
        {
          "output_type": "stream",
          "name": "stdout",
          "text": [
            "tensor([[0.8070, 0.3826, 0.7940, 0.5296],\n",
            "        [0.2418, 0.5723, 0.6202, 0.4126],\n",
            "        [0.6810, 0.8167, 0.0143, 0.9899]])\n",
            "tensor([[0.3493, 0.0381, 0.0876, 0.0092],\n",
            "        [0.4357, 0.8511, 0.7999, 0.4342],\n",
            "        [0.8134, 0.1875, 0.0591, 0.2832]])\n",
            "tensor([[False, False, False, False],\n",
            "        [False, False, False, False],\n",
            "        [False, False, False, False]])\n"
          ]
        }
      ]
    }
  ]
}