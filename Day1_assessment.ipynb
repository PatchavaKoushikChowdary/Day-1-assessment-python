{
  "nbformat": 4,
  "nbformat_minor": 0,
  "metadata": {
    "colab": {
      "provenance": [],
      "include_colab_link": true
    },
    "kernelspec": {
      "name": "python3",
      "display_name": "Python 3"
    },
    "language_info": {
      "name": "python"
    }
  },
  "cells": [
    {
      "cell_type": "markdown",
      "metadata": {
        "id": "view-in-github",
        "colab_type": "text"
      },
      "source": [
        "<a href=\"https://colab.research.google.com/github/PatchavaKoushikChowdary/Day-1-assessment-python/blob/main/Day1_assessment.ipynb\" target=\"_parent\"><img src=\"https://colab.research.google.com/assets/colab-badge.svg\" alt=\"Open In Colab\"/></a>"
      ]
    },
    {
      "cell_type": "markdown",
      "source": [
        "How would you confirm that two strings have the same identity?"
      ],
      "metadata": {
        "id": "gP4Vw-m-TQUb"
      }
    },
    {
      "cell_type": "markdown",
      "source": [],
      "metadata": {
        "id": "VDlAsI9edJJ2"
      }
    },
    {
      "cell_type": "code",
      "execution_count": null,
      "metadata": {
        "id": "MCYvgAlISI8_",
        "colab": {
          "base_uri": "https://localhost:8080/"
        },
        "outputId": "97917a4f-7d30-4758-f012-db3c4d4cc567"
      },
      "outputs": [
        {
          "output_type": "stream",
          "name": "stdout",
          "text": [
            "Two strings have same identity\n"
          ]
        }
      ],
      "source": [
        "str1=\"same\"\n",
        "str2=\"same\"\n",
        "if str1 is str2:\n",
        "  print(\"Two strings have same identity\")\n",
        "else:\n",
        "  print(\"Two strings have different identity\")"
      ]
    },
    {
      "cell_type": "markdown",
      "source": [
        "How to find the length and index of the string?"
      ],
      "metadata": {
        "id": "4uR_frnXUDuF"
      }
    },
    {
      "cell_type": "code",
      "source": [
        "string=\"Hi,how are you doing\"\n",
        "a=len(string)\n",
        "print(\"the length of the string is\",a)\n",
        "b=string.find(\"how\")\n",
        "print(\"the index of how is\",b)"
      ],
      "metadata": {
        "colab": {
          "base_uri": "https://localhost:8080/"
        },
        "id": "AK4Lil9KUNaS",
        "outputId": "0026046c-1c2e-4443-a861-0e9c8475351c"
      },
      "execution_count": null,
      "outputs": [
        {
          "output_type": "stream",
          "name": "stdout",
          "text": [
            "the length of the string is 20\n",
            "the index of how is 3\n"
          ]
        }
      ]
    },
    {
      "cell_type": "markdown",
      "source": [
        "How to check a string contain a specific substring?"
      ],
      "metadata": {
        "id": "PG-V4U-dVd_W"
      }
    },
    {
      "cell_type": "code",
      "source": [
        "string=\"Hey whatsup\"\n",
        "sub_string=\"Hey\"\n",
        "if sub_string in string:\n",
        "  print(\"string contains substing\")\n",
        "else:\n",
        "  print(\"string does not contain substring\")"
      ],
      "metadata": {
        "colab": {
          "base_uri": "https://localhost:8080/"
        },
        "id": "ABwlCTOtVnKo",
        "outputId": "204ec830-4dbc-43ee-8c53-ada193548105"
      },
      "execution_count": null,
      "outputs": [
        {
          "output_type": "stream",
          "name": "stdout",
          "text": [
            "string contains substing\n"
          ]
        }
      ]
    },
    {
      "cell_type": "markdown",
      "source": [
        "How to a take a string from backward with two step difference?"
      ],
      "metadata": {
        "id": "D79Qd3O1XWmx"
      }
    },
    {
      "cell_type": "code",
      "source": [
        "string=\"Hello\"\n",
        "a=string[::-2]\n",
        "print(\"given string is\",string)\n",
        "print(\"string from backward with two step difference is\",a)"
      ],
      "metadata": {
        "colab": {
          "base_uri": "https://localhost:8080/"
        },
        "id": "1Xu03MY3Xi2A",
        "outputId": "9434f1ca-0498-4c9e-cb7a-4df25cd70d0d"
      },
      "execution_count": null,
      "outputs": [
        {
          "output_type": "stream",
          "name": "stdout",
          "text": [
            "given string is Hello\n",
            "string from backward with two step difference is olH\n"
          ]
        }
      ]
    },
    {
      "cell_type": "markdown",
      "source": [
        "How to find the index of the last element?"
      ],
      "metadata": {
        "id": "_ct5Dsj8YNO8"
      }
    },
    {
      "cell_type": "code",
      "source": [
        "a=\"hello\"\n",
        "b=len(a)-1\n",
        "print(\"index of the last element is\",b)"
      ],
      "metadata": {
        "colab": {
          "base_uri": "https://localhost:8080/"
        },
        "id": "BhKciEoPYXmL",
        "outputId": "490f611f-7f38-4c98-ab04-bee6f4bfe520"
      },
      "execution_count": null,
      "outputs": [
        {
          "output_type": "stream",
          "name": "stdout",
          "text": [
            "index of the last element is 4\n"
          ]
        }
      ]
    },
    {
      "cell_type": "markdown",
      "source": [
        "Write 2 ways to concatinate the string?"
      ],
      "metadata": {
        "id": "YUuceh-iYvAC"
      }
    },
    {
      "cell_type": "code",
      "source": [
        "string1=\"hi\"\n",
        "string2=\"hello\"\n",
        "#1st method\n",
        "a=string1+string2\n",
        "print(\"1st way of concatinating\",a)\n",
        "#2nd method\n",
        "b=f\"{string1}{string2}\"\n",
        "print(\"2nd way of concatinating\",b)"
      ],
      "metadata": {
        "colab": {
          "base_uri": "https://localhost:8080/"
        },
        "id": "9xlw-_GUY04J",
        "outputId": "afc501fb-4e0e-4038-d161-39d92992d6b8"
      },
      "execution_count": null,
      "outputs": [
        {
          "output_type": "stream",
          "name": "stdout",
          "text": [
            "1st way of concatinating hihello\n",
            "2nd way of concatinating hihello\n"
          ]
        }
      ]
    }
  ]
}