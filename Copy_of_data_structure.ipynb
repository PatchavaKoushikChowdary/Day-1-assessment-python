{
  "nbformat": 4,
  "nbformat_minor": 0,
  "metadata": {
    "colab": {
      "provenance": [],
      "include_colab_link": true
    },
    "kernelspec": {
      "name": "python3",
      "display_name": "Python 3"
    },
    "language_info": {
      "name": "python"
    }
  },
  "cells": [
    {
      "cell_type": "markdown",
      "metadata": {
        "id": "view-in-github",
        "colab_type": "text"
      },
      "source": [
        "<a href=\"https://colab.research.google.com/github/PatchavaKoushikChowdary/Day-1-assessment-python/blob/main/Copy_of_data_structure.ipynb\" target=\"_parent\"><img src=\"https://colab.research.google.com/assets/colab-badge.svg\" alt=\"Open In Colab\"/></a>"
      ]
    },
    {
      "cell_type": "markdown",
      "source": [
        "## 1.Difference between the list and tuple?"
      ],
      "metadata": {
        "id": "HN6tCq60j2mQ"
      }
    },
    {
      "cell_type": "markdown",
      "source": [
        "List\n",
        "1. Lists are mutable.\n",
        "2. Lists consume more memory.\n",
        "3. Lists are represented by [ ] brackets.\n",
        "\n",
        "Tuple\n",
        "1. Tuples are immutable.\n",
        "2. Tuple consumes less memory as compared to the list.\n",
        "3. Tuples are represented by ( ) brackets."
      ],
      "metadata": {
        "id": "QgUtwdl1pMb0"
      }
    },
    {
      "cell_type": "markdown",
      "source": [
        "## 2.How list is different from an array"
      ],
      "metadata": {
        "id": "uWhJG7hzk6Ov"
      }
    },
    {
      "cell_type": "markdown",
      "source": [
        "1. List can consist of elements belonging to different datatypes whereas array Only consists of elements belonging to the same datatype.\n",
        "2. List preferred for a shorter sequence of data items whereas array preferred for a longer sequence of data items.\n",
        "3. List cannot directly handle arithmetic operations whereas array can."
      ],
      "metadata": {
        "id": "r5pjhbH5rjwL"
      }
    },
    {
      "cell_type": "markdown",
      "source": [
        "## 3. Use the python list append(),copy(), clear, count, extends(), index(), insert(), pop(), reverse(), sort(), min(), max(),and sum()"
      ],
      "metadata": {
        "id": "_0Rn7JQSk6M1"
      }
    },
    {
      "cell_type": "code",
      "source": [
        "#append\n",
        "l=[]\n",
        "l.append(1)\n",
        "l.append(2.2)\n",
        "l.append(\"Hi\")\n",
        "print(l)"
      ],
      "metadata": {
        "id": "9j5Ee48TsKjb",
        "outputId": "215ff5b2-2a7a-4675-febd-b1cffbf4264b",
        "colab": {
          "base_uri": "https://localhost:8080/"
        }
      },
      "execution_count": null,
      "outputs": [
        {
          "output_type": "stream",
          "name": "stdout",
          "text": [
            "[1, 2.2, 'Hi']\n"
          ]
        }
      ]
    },
    {
      "cell_type": "code",
      "source": [
        "#copy\n",
        "l=[1,2,3,4,5]\n",
        "b=l.copy()\n",
        "print(b)"
      ],
      "metadata": {
        "id": "3934Yhyas7wo",
        "outputId": "12e1d579-b293-411b-e279-76446ec1572b",
        "colab": {
          "base_uri": "https://localhost:8080/"
        }
      },
      "execution_count": null,
      "outputs": [
        {
          "output_type": "stream",
          "name": "stdout",
          "text": [
            "[1, 2, 3, 4, 5]\n"
          ]
        }
      ]
    },
    {
      "cell_type": "code",
      "source": [
        "#clear\n",
        "l=[1,2,3,4]\n",
        "l.clear()\n",
        "print(l)"
      ],
      "metadata": {
        "id": "xkO02s99tqzJ",
        "outputId": "d3e72913-24b2-471f-eb2f-6379be0f8228",
        "colab": {
          "base_uri": "https://localhost:8080/"
        }
      },
      "execution_count": null,
      "outputs": [
        {
          "output_type": "stream",
          "name": "stdout",
          "text": [
            "[]\n"
          ]
        }
      ]
    },
    {
      "cell_type": "code",
      "source": [
        "#count\n",
        "l=[1,2,2,2,3,4,5]\n",
        "l.count(2)"
      ],
      "metadata": {
        "id": "sZpvfEgaudFU",
        "outputId": "ed301906-f3b3-45b0-8837-3f9fa1f432de",
        "colab": {
          "base_uri": "https://localhost:8080/"
        }
      },
      "execution_count": null,
      "outputs": [
        {
          "output_type": "execute_result",
          "data": {
            "text/plain": [
              "3"
            ]
          },
          "metadata": {},
          "execution_count": 19
        }
      ]
    },
    {
      "cell_type": "code",
      "source": [
        "#extends\n",
        "l=[1,2,3,4]\n",
        "b=[5,6,7,8]\n",
        "l.extend(b)\n",
        "print(l)"
      ],
      "metadata": {
        "id": "bt0cl6cNuz4x",
        "outputId": "6cd9eab1-d49f-48c3-85e4-b12b8cb30bb1",
        "colab": {
          "base_uri": "https://localhost:8080/"
        }
      },
      "execution_count": null,
      "outputs": [
        {
          "output_type": "stream",
          "name": "stdout",
          "text": [
            "[1, 2, 3, 4, 5, 6, 7, 8]\n"
          ]
        }
      ]
    },
    {
      "cell_type": "code",
      "source": [
        "#index\n",
        "l=[1,2,3,4,5]\n",
        "l.index(4)"
      ],
      "metadata": {
        "id": "0WC9IMa0vO-K",
        "outputId": "8a39b5c4-e30e-47d2-975e-d5993ecc7e2e",
        "colab": {
          "base_uri": "https://localhost:8080/"
        }
      },
      "execution_count": null,
      "outputs": [
        {
          "output_type": "execute_result",
          "data": {
            "text/plain": [
              "3"
            ]
          },
          "metadata": {},
          "execution_count": 23
        }
      ]
    },
    {
      "cell_type": "code",
      "source": [
        "#insert\n",
        "l=[1,2,3,4]\n",
        "l.insert(4,5)\n",
        "print(l)"
      ],
      "metadata": {
        "id": "JrzsGxQrvhLP",
        "outputId": "7a017669-a929-474a-ccd0-eae5785b4977",
        "colab": {
          "base_uri": "https://localhost:8080/"
        }
      },
      "execution_count": null,
      "outputs": [
        {
          "output_type": "stream",
          "name": "stdout",
          "text": [
            "[1, 2, 3, 4, 5]\n"
          ]
        }
      ]
    },
    {
      "cell_type": "code",
      "source": [
        "#pop\n",
        "l=[1,2,3,4]\n",
        "b=l.pop(2)\n",
        "print(\"poped element is\",b)"
      ],
      "metadata": {
        "id": "PNHuwUG1v_NO",
        "outputId": "5e9dc69e-f966-49da-df7b-c887b6e6044d",
        "colab": {
          "base_uri": "https://localhost:8080/"
        }
      },
      "execution_count": null,
      "outputs": [
        {
          "output_type": "stream",
          "name": "stdout",
          "text": [
            "poped element is 3\n"
          ]
        }
      ]
    },
    {
      "cell_type": "code",
      "source": [
        "#reverse\n",
        "l=[1,2,3,4]\n",
        "l.reverse()\n",
        "print(l)"
      ],
      "metadata": {
        "id": "Jp54QbqJwb1M",
        "outputId": "67436048-4deb-4840-c25b-8e2f8ddc1612",
        "colab": {
          "base_uri": "https://localhost:8080/"
        }
      },
      "execution_count": null,
      "outputs": [
        {
          "output_type": "stream",
          "name": "stdout",
          "text": [
            "[4, 3, 2, 1]\n"
          ]
        }
      ]
    },
    {
      "cell_type": "code",
      "source": [
        "#sort\n",
        "l=[1,3,2,5,4]\n",
        "l.sort()\n",
        "print(l)"
      ],
      "metadata": {
        "id": "6UG1a4bBw20i",
        "outputId": "50289885-d7d0-4aae-8258-ab16c0846964",
        "colab": {
          "base_uri": "https://localhost:8080/"
        }
      },
      "execution_count": null,
      "outputs": [
        {
          "output_type": "stream",
          "name": "stdout",
          "text": [
            "[1, 2, 3, 4, 5]\n"
          ]
        }
      ]
    },
    {
      "cell_type": "code",
      "source": [
        "#min and max\n",
        "l=[1,2,3,4,5]\n",
        "b=min(l)\n",
        "c=max(l)\n",
        "print(\"minimum value is \",b)\n",
        "print(\"maximum value is \",c)"
      ],
      "metadata": {
        "id": "Qb1nIjWbxAuk",
        "outputId": "629a4e12-b07d-4579-b1c2-8e33574beedb",
        "colab": {
          "base_uri": "https://localhost:8080/"
        }
      },
      "execution_count": null,
      "outputs": [
        {
          "output_type": "stream",
          "name": "stdout",
          "text": [
            "minimum value is  1\n",
            "maximum value is  5\n"
          ]
        }
      ]
    },
    {
      "cell_type": "code",
      "source": [
        "#sum\n",
        "l=[1,2,3]\n",
        "b=sum(l)\n",
        "print(b)"
      ],
      "metadata": {
        "id": "L7MuAMTpxfzW",
        "outputId": "29552c49-b749-4ac6-e5dc-df4f8293bb28",
        "colab": {
          "base_uri": "https://localhost:8080/"
        }
      },
      "execution_count": null,
      "outputs": [
        {
          "output_type": "stream",
          "name": "stdout",
          "text": [
            "6\n"
          ]
        }
      ]
    },
    {
      "cell_type": "markdown",
      "source": [
        "## 4, How would you divide the list into two parts?"
      ],
      "metadata": {
        "id": "W9xfjUWak6J_"
      }
    },
    {
      "cell_type": "code",
      "source": [
        "l=[1,2,3,4]\n",
        "b=len(l)//2\n",
        "c=l[b:]\n",
        "d=l[:b]\n",
        "print(c)\n",
        "print(d)"
      ],
      "metadata": {
        "id": "_EaNwRrex5Jr",
        "outputId": "53fc1887-69b2-40bc-bc41-add528a8c46a",
        "colab": {
          "base_uri": "https://localhost:8080/"
        }
      },
      "execution_count": null,
      "outputs": [
        {
          "output_type": "stream",
          "name": "stdout",
          "text": [
            "[3, 4]\n",
            "[1, 2]\n"
          ]
        }
      ]
    },
    {
      "cell_type": "markdown",
      "source": [
        "## 5. how to filter the multiple of 3 from a given list and them remove the odd number from the new filtered list.\n",
        "Eg A = [1,2,3,4,5,6,7,8,9,21,23,24]\n",
        "Filter_lsit = [3,6,9,21,24]\n",
        "output_list = [6,24]"
      ],
      "metadata": {
        "id": "Qb1mVGfnk6G5"
      }
    },
    {
      "cell_type": "code",
      "source": [
        "l=[1,2,3,4,5,6,7,8,9,21,23,24]\n",
        "c=[i for i in l if i%3==0]\n",
        "d=[i for i in c if i%2==0]\n",
        "print(c)\n",
        "print(d)"
      ],
      "metadata": {
        "id": "0KjVOrK-ybAc",
        "outputId": "aafee748-7a3a-480a-fd0e-8156324925c4",
        "colab": {
          "base_uri": "https://localhost:8080/"
        }
      },
      "execution_count": null,
      "outputs": [
        {
          "output_type": "stream",
          "name": "stdout",
          "text": [
            "[3, 6, 9, 21, 24]\n",
            "[6, 24]\n"
          ]
        }
      ]
    },
    {
      "cell_type": "markdown",
      "source": [
        "## 6. How you can access keys and values simultaneously and update its value"
      ],
      "metadata": {
        "id": "auhYyjixk6FD"
      }
    },
    {
      "cell_type": "code",
      "source": [
        "l={'a':1,'b':2}\n",
        "for i,j in l.items():\n",
        "  print(i,j)\n",
        "c=str(input(\"enter key\"))\n",
        "d=int(input(\"enter value\"))\n",
        "if c in l:\n",
        "  l[c]=d\n",
        "  print(\"key founded\")\n",
        "else:\n",
        "  print(\"key not found\")\n",
        "print(l)"
      ],
      "metadata": {
        "id": "ZGjQ_3Zh0y3p",
        "outputId": "fa6c14fc-96e8-46f9-838f-69e3dbed8049",
        "colab": {
          "base_uri": "https://localhost:8080/"
        }
      },
      "execution_count": null,
      "outputs": [
        {
          "output_type": "stream",
          "name": "stdout",
          "text": [
            "a 1\n",
            "b 2\n",
            "enter keyb\n",
            "enter value3\n",
            "key founded\n",
            "{'a': 1, 'b': 3}\n"
          ]
        }
      ]
    },
    {
      "cell_type": "markdown",
      "source": [
        "## 7. Write python program to join, merge, concatente the two dictionaries..\n"
      ],
      "metadata": {
        "id": "vV00n0awk5_G"
      }
    },
    {
      "cell_type": "code",
      "source": [
        "#join\n",
        "d1={'a':1,'b':2}\n",
        "d2={'c':2,'d':3}\n",
        "d1.update(d2)\n",
        "print(d1)"
      ],
      "metadata": {
        "id": "vWjJGYf62P9d",
        "outputId": "639b8050-2f08-413a-9890-7e004085ebb4",
        "colab": {
          "base_uri": "https://localhost:8080/"
        }
      },
      "execution_count": null,
      "outputs": [
        {
          "output_type": "stream",
          "name": "stdout",
          "text": [
            "{'a': 1, 'b': 2, 'c': 2, 'd': 3}\n"
          ]
        }
      ]
    },
    {
      "cell_type": "code",
      "source": [
        "#merge\n",
        "d1={'a':1,'b':2}\n",
        "d2={'b':3,'d':3}\n",
        "d=dict(d1,**d2)\n",
        "print(d)"
      ],
      "metadata": {
        "id": "d43GOzGt3n-_",
        "outputId": "2027defc-c381-43e7-d0fe-55ff47193923",
        "colab": {
          "base_uri": "https://localhost:8080/"
        }
      },
      "execution_count": null,
      "outputs": [
        {
          "output_type": "stream",
          "name": "stdout",
          "text": [
            "{'a': 1, 'b': 3, 'd': 3}\n"
          ]
        }
      ]
    },
    {
      "cell_type": "code",
      "source": [
        "#concatente\n",
        "d1={'a':1,'b':2}\n",
        "d2={'b':3,'d':3}\n",
        "d={**d1,**d2}\n",
        "print(d)"
      ],
      "metadata": {
        "id": "gGb14_kB38G6",
        "outputId": "6941e8f6-1dc4-44da-e89c-3e60f1ce0e69",
        "colab": {
          "base_uri": "https://localhost:8080/"
        }
      },
      "execution_count": null,
      "outputs": [
        {
          "output_type": "stream",
          "name": "stdout",
          "text": [
            "{'a': 1, 'b': 3, 'd': 3}\n"
          ]
        }
      ]
    },
    {
      "cell_type": "markdown",
      "source": [
        "## 8. How would you check a specific keys from the dictionary??\n"
      ],
      "metadata": {
        "id": "Z_7dpypWnQ-z"
      }
    },
    {
      "cell_type": "code",
      "source": [
        "d={'a':1,'b':2}\n",
        "c=str(input(\"enter value to check\"))\n",
        "if c in d:\n",
        "  print(\"value is there\")\n",
        "else:\n",
        "  print(\"value not there\")"
      ],
      "metadata": {
        "id": "tORMHvrx6Ch0",
        "outputId": "5693c54d-0785-497e-feaa-df448bda589c",
        "colab": {
          "base_uri": "https://localhost:8080/"
        }
      },
      "execution_count": null,
      "outputs": [
        {
          "output_type": "stream",
          "name": "stdout",
          "text": [
            "enter value to checkb\n",
            "value is there\n"
          ]
        }
      ]
    },
    {
      "cell_type": "markdown",
      "source": [
        "## 9. write a python program to find the unique vowel present in the sentence"
      ],
      "metadata": {
        "id": "EjxeB4ntnirH"
      }
    },
    {
      "cell_type": "code",
      "source": [
        "sentence= input(\"Enter a sentence\")\n",
        "b=set()\n",
        "vowels = \"aeiouAEIOU\"\n",
        "for i in sentence:\n",
        "    if i in vowels:\n",
        "        b.add(i)\n",
        "if b:\n",
        "    print(\"vowels in the sentence:\",list(b))\n",
        "else:\n",
        "    print(\"No vowels found in the sentence.\")"
      ],
      "metadata": {
        "id": "SvMLdeE69foe",
        "outputId": "48fb8e09-b9f5-4c36-c325-7a27aefd53f4",
        "colab": {
          "base_uri": "https://localhost:8080/"
        }
      },
      "execution_count": null,
      "outputs": [
        {
          "output_type": "stream",
          "name": "stdout",
          "text": [
            "Enter a sentencehello\n",
            "vowels in the sentence: ['o', 'e']\n"
          ]
        }
      ]
    },
    {
      "cell_type": "markdown",
      "source": [
        "## 10. We know that tuple is immutable, do any thing and add element to the tuples."
      ],
      "metadata": {
        "id": "B1VBImcfns6V"
      }
    },
    {
      "cell_type": "code",
      "source": [
        "t1=(1,2)\n",
        "t2=(3,4)\n",
        "t=t1+t2\n",
        "print(t)"
      ],
      "metadata": {
        "id": "3FrYmxFR65RE",
        "outputId": "84fcf24a-ffa5-4a17-d0e8-270cec81f0f0",
        "colab": {
          "base_uri": "https://localhost:8080/"
        }
      },
      "execution_count": null,
      "outputs": [
        {
          "output_type": "stream",
          "name": "stdout",
          "text": [
            "(1, 2, 3, 4)\n"
          ]
        }
      ]
    },
    {
      "cell_type": "markdown",
      "source": [
        "## 11. How would you sum the list of tuple and sum of tuple of list\n",
        "list  = [(2,3),(4,5),(6,4)]\n",
        "output= [5,9,10]\n",
        "\n",
        "tuple  =([2,3],[4,5],[6,4])\n",
        "output  =  (5,9,10)"
      ],
      "metadata": {
        "id": "Yd7tDQHuoGFm"
      }
    },
    {
      "cell_type": "code",
      "source": [
        "# List of tuples\n",
        "l_t = ([2, 3], [4, 5], [6, 4])\n",
        "b = tuple(sum(i) for i in l_t)\n",
        "print(b)\n",
        "\n",
        "# Tuple of lists\n",
        "t_l = [(2, 3), (4, 5), (6, 4)]\n",
        "c = [sum(j) for j in t_l]\n",
        "print(c)"
      ],
      "metadata": {
        "id": "qbsZBW8M7Kdx",
        "outputId": "8dc12ee0-52bd-46e0-82ed-9fed345ca9a2",
        "colab": {
          "base_uri": "https://localhost:8080/"
        }
      },
      "execution_count": null,
      "outputs": [
        {
          "output_type": "stream",
          "name": "stdout",
          "text": [
            "(5, 9, 10)\n",
            "[5, 9, 10]\n"
          ]
        }
      ]
    },
    {
      "cell_type": "markdown",
      "source": [
        "## 12. FIND THE FREQUENCY OF THE KEYS IN THE GIVEN DICTIONARY"
      ],
      "metadata": {
        "id": "YiXg_vDpoq7X"
      }
    },
    {
      "cell_type": "code",
      "source": [
        "l={'a':1,'b':2,'c':2}\n",
        "b={}\n",
        "for i in l.values():\n",
        "    if i in b:\n",
        "        b[i]+=1\n",
        "    else:\n",
        "         b[i]=1\n",
        "for j,k in b.items():\n",
        "    print(f\"The frequency of value {j} is: {k}\")"
      ],
      "metadata": {
        "id": "41_10Y2v7qLa",
        "outputId": "1fbead4b-b4cb-490e-eae9-00ac156696a1",
        "colab": {
          "base_uri": "https://localhost:8080/"
        }
      },
      "execution_count": null,
      "outputs": [
        {
          "output_type": "stream",
          "name": "stdout",
          "text": [
            "The frequency of value 1 is: 1\n",
            "The frequency of value 2 is: 2\n"
          ]
        }
      ]
    }
  ]
}